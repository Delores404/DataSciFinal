{
 "cells": [
  {
   "cell_type": "markdown",
   "metadata": {},
   "source": [
    "# Used cars prices analysis and prediction\n",
    "\n",
    "In this project, we are going to use three machine learning algorithm to do the prediction:\n",
    "Multiple Linear Regression with LASSO panelty;\n",
    "Random Forest;\n",
    "XGboost"
   ]
  },
  {
   "cell_type": "code",
   "execution_count": 50,
   "metadata": {},
   "outputs": [],
   "source": [
    "# import any tool if needed\n",
    "import matplotlib\n",
    "import matplotlib.pyplot as plt \n",
    "%matplotlib inline\n",
    "import scipy.stats as ss\n",
    "from scipy.optimize import minimize\n",
    "import pandas as pd \n",
    "import numpy as np\n",
    "import seaborn as sns\n",
    "\n",
    "import sklearn as sk \n",
    "from sklearn.model_selection import train_test_split, cross_val_score\n",
    "from sklearn.pipeline import Pipeline\n",
    "from sklearn.linear_model import LinearRegression, LogisticRegression\n",
    "from sklearn.preprocessing import PolynomialFeatures, StandardScaler\n",
    "from sklearn.metrics import make_scorer, mean_absolute_error"
   ]
  },
  {
   "cell_type": "markdown",
   "metadata": {},
   "source": [
    "# Dataset Manipulation"
   ]
  },
  {
   "cell_type": "code",
   "execution_count": 51,
   "metadata": {},
   "outputs": [
    {
     "data": {
      "text/plain": [
       "<bound method NDFrame.head of        Unnamed: 0  Unnamed: 0.1  price    year manufacturer     model  \\\n",
       "0               1             5  13995  2012.0         ford     f-150   \n",
       "1               2             6   7995  2010.0    chevrolet   equinox   \n",
       "2               3             7   8995  2011.0    chevrolet  traverse   \n",
       "3               4             8  10995  2014.0         ford  explorer   \n",
       "4               5             9  12995  2004.0          ram      2500   \n",
       "...           ...           ...    ...     ...          ...       ...   \n",
       "19557       61918        423777   5000  2009.0       toyota   corolla   \n",
       "19558       61923        423803  25871  2017.0         ford  explorer   \n",
       "19559       61928        423821  12995  2014.0       subaru   outback   \n",
       "19560       61929        423823   9584  2012.0       toyota     camry   \n",
       "19561       61930        423824   1000  2004.0         ford     f-150   \n",
       "\n",
       "       condition    cylinders    fuel  odometer title_status transmission  \\\n",
       "0           good  6 cylinders     gas  188406.0        clean    automatic   \n",
       "1           good  4 cylinders     gas  108124.0        clean    automatic   \n",
       "2           good  6 cylinders     gas  178054.0        clean    automatic   \n",
       "3           good  6 cylinders     gas  170259.0        clean    automatic   \n",
       "4           good  6 cylinders  diesel  309621.0        clean    automatic   \n",
       "...          ...          ...     ...       ...          ...          ...   \n",
       "19557       good  4 cylinders     gas  159500.0        clean       manual   \n",
       "19558  excellent  6 cylinders     gas   42520.0      rebuilt    automatic   \n",
       "19559  excellent  4 cylinders     gas  134315.0        clean    automatic   \n",
       "19560  excellent  4 cylinders     gas  145000.0        clean    automatic   \n",
       "19561       fair  8 cylinders     gas  177000.0        clean    automatic   \n",
       "\n",
       "      drive         size   type paint_color  \n",
       "0       4wd    full-size  truck        grey  \n",
       "1       4wd    full-size    SUV        grey  \n",
       "2       4wd    full-size    SUV       white  \n",
       "3       4wd    full-size    SUV       white  \n",
       "4       4wd    full-size  truck      custom  \n",
       "...     ...          ...    ...         ...  \n",
       "19557   fwd  sub-compact  sedan       white  \n",
       "19558   4wd    full-size    SUV         red  \n",
       "19559   4wd    full-size    SUV      custom  \n",
       "19560   fwd     mid-size  sedan        grey  \n",
       "19561   4wd    full-size  truck        blue  \n",
       "\n",
       "[19562 rows x 16 columns]>"
      ]
     },
     "execution_count": 51,
     "metadata": {},
     "output_type": "execute_result"
    }
   ],
   "source": [
    "df = pd.read_csv('cars_11_18.csv')\n",
    "df.head"
   ]
  },
  {
   "cell_type": "code",
   "execution_count": null,
   "metadata": {},
   "outputs": [],
   "source": []
  },
  {
   "cell_type": "markdown",
   "metadata": {},
   "source": [
    "# Insight of predictors and Data Visualization\n",
    "\n",
    "Histogram of response/major predictors"
   ]
  },
  {
   "cell_type": "code",
   "execution_count": null,
   "metadata": {},
   "outputs": [],
   "source": []
  },
  {
   "cell_type": "code",
   "execution_count": null,
   "metadata": {},
   "outputs": [],
   "source": []
  },
  {
   "cell_type": "markdown",
   "metadata": {},
   "source": [
    "# Methods\n",
    "Multiple Linear Regression with Lasso panelty/ Random forest / XGboost"
   ]
  },
  {
   "cell_type": "code",
   "execution_count": 52,
   "metadata": {},
   "outputs": [],
   "source": [
    "# Multiple linear regression code"
   ]
  },
  {
   "cell_type": "code",
   "execution_count": 53,
   "metadata": {},
   "outputs": [],
   "source": [
    "# Random forest code"
   ]
  },
  {
   "cell_type": "code",
   "execution_count": 54,
   "metadata": {},
   "outputs": [
    {
     "name": "stdout",
     "output_type": "stream",
     "text": [
      "['Unnamed: 0', 'Unnamed: 0.1', 'year', 'manufacturer', 'model', 'condition', 'cylinders', 'fuel', 'title_status', 'transmission', 'drive', 'size', 'type', 'paint_color']\n",
      "['price', 'odometer']\n",
      "      year         price\n",
      "                    mean\n",
      "0   2000.0   4664.023256\n",
      "1   2001.0   4582.330218\n",
      "2   2002.0   5139.718016\n",
      "3   2003.0   5377.051565\n",
      "4   2004.0   6147.398551\n",
      "5   2005.0   6131.422535\n",
      "6   2006.0   7883.010225\n",
      "7   2007.0   7916.261799\n",
      "8   2008.0   9111.184473\n",
      "9   2009.0   7726.285714\n",
      "10  2010.0   8917.377246\n",
      "11  2011.0  11134.401365\n",
      "12  2012.0  11196.626905\n",
      "13  2013.0  12847.079640\n",
      "14  2014.0  13407.637422\n",
      "15  2015.0  17156.217910\n",
      "16  2016.0  16492.747615\n",
      "17  2017.0  19449.285938\n",
      "18  2018.0  21355.533597\n",
      "19  2019.0  23291.108818\n",
      "20  2020.0  22222.347222\n",
      "   manufacturer         price\n",
      "                         mean\n",
      "0           bmw  11385.762791\n",
      "1         buick  13361.333333\n",
      "2      cadillac  15205.861446\n",
      "3     chevrolet  13046.549937\n",
      "4      chrysler   6502.992248\n",
      "5         dodge  10361.418212\n",
      "6          ford  13991.846681\n",
      "7           gmc  17205.316079\n",
      "8         honda   7953.536937\n",
      "9       hyundai   7188.516779\n",
      "10         jeep  11433.743557\n",
      "11          kia   8886.988439\n",
      "12        mazda   6324.900000\n",
      "13       nissan   8601.411121\n",
      "14          ram  17631.802266\n",
      "15       subaru   9009.439523\n",
      "16       toyota  10165.704421\n",
      "17   volkswagen   8007.942857\n",
      "       model         price\n",
      "                      mean\n",
      "0       1500  15594.927342\n",
      "1        200   6546.663717\n",
      "2       2500  20918.058621\n",
      "3          3   6324.900000\n",
      "4   3-series  10886.861111\n",
      "..       ...           ...\n",
      "81    tundra  16717.467033\n",
      "82     versa   5218.570423\n",
      "83  wrangler  19072.315315\n",
      "84        x5  11889.327103\n",
      "85     yukon  14849.310345\n",
      "\n",
      "[86 rows x 2 columns]\n",
      "   condition         price\n",
      "                      mean\n",
      "0  excellent  12705.929849\n",
      "1       fair   3178.877917\n",
      "2       good  10231.985208\n",
      "3   like new  16514.020239\n",
      "4        new  14834.288660\n",
      "      cylinders         price\n",
      "                         mean\n",
      "0  10 cylinders  16100.821429\n",
      "1   3 cylinders  11741.130435\n",
      "2   4 cylinders   8624.288932\n",
      "3   5 cylinders   7469.861446\n",
      "4   6 cylinders  11546.429321\n",
      "5   8 cylinders  16924.969315\n",
      "6         other  14962.578947\n",
      "       fuel         price\n",
      "                     mean\n",
      "0    diesel  21479.046861\n",
      "1  electric  11600.000000\n",
      "2       gas  11394.310914\n",
      "3    hybrid   7915.119231\n",
      "  title_status         price\n",
      "                        mean\n",
      "0        clean  11961.155578\n",
      "1      rebuilt  11042.599374\n",
      "  transmission         price\n",
      "                        mean\n",
      "0    automatic  12019.840727\n",
      "1       manual  10136.066232\n",
      "  drive         price\n",
      "                 mean\n",
      "0   4wd  15638.490433\n",
      "1   fwd   7849.402138\n",
      "2   rwd  12947.832694\n",
      "          size         price\n",
      "                        mean\n",
      "0      compact   7202.404509\n",
      "1    full-size  14147.944228\n",
      "2     mid-size   9483.202232\n",
      "3  sub-compact  10559.360000\n",
      "          type         price\n",
      "                        mean\n",
      "0          SUV  11287.197733\n",
      "1  convertible  14873.956897\n",
      "2        coupe  10173.036450\n",
      "3    hatchback   7041.717622\n",
      "4     mini-van   8869.494078\n",
      "5       pickup  16896.942242\n",
      "6        sedan   7527.851233\n",
      "7        truck  18306.115701\n",
      "8          van  10098.872941\n",
      "9        wagon   8174.764398\n",
      "   paint_color         price\n",
      "                        mean\n",
      "0        black  13116.563256\n",
      "1         blue  10233.873926\n",
      "2        brown   9667.190388\n",
      "3       custom  12048.650980\n",
      "4        green   7939.363303\n",
      "5         grey  11860.476350\n",
      "6       orange  16839.500000\n",
      "7       purple   7908.625000\n",
      "8          red  11239.510671\n",
      "9       silver  10035.366422\n",
      "10       white  13958.273151\n",
      "11      yellow  10535.649485\n"
     ]
    }
   ],
   "source": [
    "# XGboost code\n",
    "data=df\n",
    "\n",
    "n = ['price', 'odometer']\n",
    "c = [i for i in data.columns.values if i not in n]\n",
    "print(c)\n",
    "print(n)\n",
    "data[c] = data[c].astype('str')\n",
    "data[n] = data[n].astype('float')\n",
    "\n",
    "f = [i for i in data.columns.values if i not in n and i!='Unnamed: 0' and i!='Unnamed: 0.1']\n",
    "\n",
    "for col in f:\n",
    "    print(data.groupby(col, as_index=False).agg({'price': [\"mean\"]}))"
   ]
  },
  {
   "cell_type": "code",
   "execution_count": 55,
   "metadata": {},
   "outputs": [
    {
     "name": "stdout",
     "output_type": "stream",
     "text": [
      "(19562, 14)\n",
      "(19562, 176)\n"
     ]
    }
   ],
   "source": [
    "data = data.drop(['Unnamed: 0', 'Unnamed: 0.1'], axis='columns')\n",
    "print(data.shape)\n",
    "data = pd.get_dummies(data)\n",
    "print(data.shape)"
   ]
  },
  {
   "cell_type": "code",
   "execution_count": 56,
   "metadata": {},
   "outputs": [],
   "source": [
    "from xgboost import XGBRegressor\n",
    "XGB = XGBRegressor(max_depth=3,\n",
    "                   learning_rate=0.1,\n",
    "                   n_estimators=100,\n",
    "                   verbosity=0,\n",
    "                   objective='reg:linear',\n",
    "                   booster='gbtree',\n",
    "                   n_jobs=-1,\n",
    "                   gamma=0.001,\n",
    "                   subsample=0.632,\n",
    "                   colsample_bytree=1,\n",
    "                   colsample_bylevel=1,\n",
    "                   colsample_bynode=1,\n",
    "                   reg_alpha=1,                  # Regularizer for first fit. alpha = 1, lambda = 0 is LASSO.\n",
    "                   reg_lambda=0,                 # Regularizer for first fit.\n",
    "                   scale_pos_weight=1,\n",
    "                   base_score=0.5,               # Global bias. Set to average of the target rate.\n",
    "                   random_state=0,\n",
    "                   missing=None\n",
    "                  )"
   ]
  },
  {
   "cell_type": "code",
   "execution_count": 57,
   "metadata": {},
   "outputs": [
    {
     "data": {
      "text/plain": [
       "GridSearchCV(cv=5,\n",
       "             estimator=XGBRegressor(base_score=0.5, booster='gbtree',\n",
       "                                    colsample_bylevel=1, colsample_bynode=1,\n",
       "                                    colsample_bytree=1, gamma=0.001,\n",
       "                                    gpu_id=None, importance_type='gain',\n",
       "                                    interaction_constraints=None,\n",
       "                                    learning_rate=0.1, max_delta_step=None,\n",
       "                                    max_depth=3, min_child_weight=None,\n",
       "                                    missing=None, monotone_constraints=None,\n",
       "                                    n_estimators=100, n_jobs=-1,\n",
       "                                    num_parallel_tree=None,\n",
       "                                    objective='reg:linear', random_state=0,\n",
       "                                    reg_alpha=1, reg_lambda=0,\n",
       "                                    scale_pos_weight=1, subsample=0.632,\n",
       "                                    tree_method=None, validate_parameters=None,\n",
       "                                    verbosity=0),\n",
       "             n_jobs=-1,\n",
       "             param_grid={'learning_rate': [0.05, 0.1, 0.15],\n",
       "                         'max_depth': [1, 2, 3],\n",
       "                         'n_estimators': [100, 150, 200]},\n",
       "             refit=False, scoring='neg_mean_squared_error')"
      ]
     },
     "execution_count": 57,
     "metadata": {},
     "output_type": "execute_result"
    }
   ],
   "source": [
    "Xtrain, Xtest, ytrain, ytest = train_test_split(data.iloc[0:1000, 1:], data['price'][0:1000], test_size=0.3, random_state=0)\n",
    "\n",
    "param_grid = dict({'n_estimators': [100, 150, 200],\n",
    "                   'max_depth': [1, 2, 3],\n",
    "                 'learning_rate' : [0.05, 0.1, 0.15]\n",
    "                  })\n",
    "\n",
    "from sklearn.model_selection import GridSearchCV\n",
    "GridXGB = GridSearchCV(XGB,\n",
    "                       param_grid,\n",
    "                       cv = 5,  \n",
    "                       scoring = 'neg_mean_squared_error',\n",
    "                       n_jobs = -1,\n",
    "                       refit = False,\n",
    "                       verbose = 0\n",
    "                      )\n",
    "\n",
    "GridXGB.fit(Xtrain, ytrain)"
   ]
  },
  {
   "cell_type": "code",
   "execution_count": 58,
   "metadata": {},
   "outputs": [
    {
     "data": {
      "text/plain": [
       "{'learning_rate': 0.15, 'max_depth': 3, 'n_estimators': 150}"
      ]
     },
     "execution_count": 58,
     "metadata": {},
     "output_type": "execute_result"
    }
   ],
   "source": [
    "GridXGB.best_params_"
   ]
  },
  {
   "cell_type": "code",
   "execution_count": 59,
   "metadata": {},
   "outputs": [
    {
     "data": {
      "text/plain": [
       "XGBRegressor(base_score=0.5, booster='gbtree', colsample_bylevel=1,\n",
       "             colsample_bynode=1, colsample_bytree=1, gamma=0.001, gpu_id=-1,\n",
       "             importance_type='gain', interaction_constraints='',\n",
       "             learning_rate=0.15, max_delta_step=0, max_depth=3,\n",
       "             min_child_weight=1, missing=None, monotone_constraints='()',\n",
       "             n_estimators=150, n_jobs=-1, num_parallel_tree=1,\n",
       "             objective='reg:linear', random_state=0, reg_alpha=1, reg_lambda=0,\n",
       "             scale_pos_weight=1, subsample=0.632, tree_method='exact',\n",
       "             validate_parameters=1, verbosity=0)"
      ]
     },
     "execution_count": 59,
     "metadata": {},
     "output_type": "execute_result"
    }
   ],
   "source": [
    "from xgboost import XGBRegressor\n",
    "XGB = XGBRegressor(max_depth=GridXGB.best_params_.get('max_depth'),\n",
    "                   learning_rate=GridXGB.best_params_.get('learning_rate'),\n",
    "                   n_estimators=GridXGB.best_params_.get('n_estimators'),\n",
    "                   verbosity=0,\n",
    "                   objective='reg:linear',\n",
    "                   booster='gbtree',\n",
    "                   n_jobs=-1,\n",
    "                   gamma=0.001,\n",
    "                   subsample=0.632,\n",
    "                   colsample_bytree=1,\n",
    "                   colsample_bylevel=1,\n",
    "                   colsample_bynode=1,\n",
    "                   reg_alpha=1,                  # Regularizer for first fit. alpha = 1, lambda = 0 is LASSO.\n",
    "                   reg_lambda=0,                 # Regularizer for first fit.\n",
    "                   scale_pos_weight=1,\n",
    "                   base_score=0.5,               # Global bias. Set to average of the target rate.\n",
    "                   random_state=0,\n",
    "                   missing=None\n",
    "                  )\n",
    "\n",
    "XGB.fit(Xtrain, ytrain)"
   ]
  },
  {
   "cell_type": "code",
   "execution_count": 60,
   "metadata": {},
   "outputs": [
    {
     "name": "stdout",
     "output_type": "stream",
     "text": [
      "35838338.96249234\n",
      "0.6385812544123031\n"
     ]
    }
   ],
   "source": [
    "from sklearn.metrics import mean_squared_error, r2_score\n",
    "\n",
    "predict = XGB.predict(Xtest)\n",
    "\n",
    "print(mean_squared_error(ytest, predict))\n",
    "print(r2_score(ytest, predict))"
   ]
  },
  {
   "cell_type": "code",
   "execution_count": 61,
   "metadata": {},
   "outputs": [],
   "source": [
    "# R squared score + MSE evaluation "
   ]
  },
  {
   "cell_type": "code",
   "execution_count": null,
   "metadata": {},
   "outputs": [],
   "source": []
  }
 ],
 "metadata": {
  "kernelspec": {
   "display_name": "Python 3",
   "language": "python",
   "name": "python3"
  },
  "language_info": {
   "codemirror_mode": {
    "name": "ipython",
    "version": 3
   },
   "file_extension": ".py",
   "mimetype": "text/x-python",
   "name": "python",
   "nbconvert_exporter": "python",
   "pygments_lexer": "ipython3",
   "version": "3.8.3"
  }
 },
 "nbformat": 4,
 "nbformat_minor": 4
}
