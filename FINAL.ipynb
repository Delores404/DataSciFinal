{
 "cells": [
  {
   "cell_type": "markdown",
   "metadata": {},
   "source": [
    "# Used cars prices analysis and prediction\n",
    "\n",
    "In this project, we are going to use three machine learning algorithm to do the prediction:\n",
    "Multiple Linear Regression with LASSO panelty;\n",
    "Random Forest;\n",
    "XGboost"
   ]
  },
  {
   "cell_type": "code",
   "execution_count": 10,
   "metadata": {},
   "outputs": [],
   "source": [
    "# import any tool if needed\n",
    "import matplotlib\n",
    "import matplotlib.pyplot as plt \n",
    "%matplotlib inline\n",
    "import scipy.stats as ss\n",
    "from scipy.optimize import minimize\n",
    "import pandas as pd \n",
    "import numpy as np\n",
    "import seaborn as sns\n",
    "\n",
    "import sklearn as sk \n",
    "from sklearn.model_selection import train_test_split, cross_val_score\n",
    "from sklearn.pipeline import Pipeline\n",
    "from sklearn.linear_model import LinearRegression, LogisticRegression\n",
    "from sklearn.preprocessing import PolynomialFeatures, StandardScaler\n",
    "from sklearn.metrics import make_scorer, mean_absolute_error, r2_score"
   ]
  },
  {
   "cell_type": "markdown",
   "metadata": {},
   "source": [
    "# Dataset Manipulation"
   ]
  },
  {
   "cell_type": "code",
   "execution_count": 11,
   "metadata": {},
   "outputs": [
    {
     "data": {
      "text/plain": [
       "<bound method NDFrame.head of        Unnamed: 0  Unnamed: 0.1  price    year manufacturer     model  \\\n",
       "0               1             5  13995  2012.0         ford     f-150   \n",
       "1               2             6   7995  2010.0    chevrolet   equinox   \n",
       "2               3             7   8995  2011.0    chevrolet  traverse   \n",
       "3               4             8  10995  2014.0         ford  explorer   \n",
       "4               5             9  12995  2004.0          ram      2500   \n",
       "...           ...           ...    ...     ...          ...       ...   \n",
       "19557       61918        423777   5000  2009.0       toyota   corolla   \n",
       "19558       61923        423803  25871  2017.0         ford  explorer   \n",
       "19559       61928        423821  12995  2014.0       subaru   outback   \n",
       "19560       61929        423823   9584  2012.0       toyota     camry   \n",
       "19561       61930        423824   1000  2004.0         ford     f-150   \n",
       "\n",
       "       condition    cylinders    fuel  odometer title_status transmission  \\\n",
       "0           good  6 cylinders     gas  188406.0        clean    automatic   \n",
       "1           good  4 cylinders     gas  108124.0        clean    automatic   \n",
       "2           good  6 cylinders     gas  178054.0        clean    automatic   \n",
       "3           good  6 cylinders     gas  170259.0        clean    automatic   \n",
       "4           good  6 cylinders  diesel  309621.0        clean    automatic   \n",
       "...          ...          ...     ...       ...          ...          ...   \n",
       "19557       good  4 cylinders     gas  159500.0        clean       manual   \n",
       "19558  excellent  6 cylinders     gas   42520.0      rebuilt    automatic   \n",
       "19559  excellent  4 cylinders     gas  134315.0        clean    automatic   \n",
       "19560  excellent  4 cylinders     gas  145000.0        clean    automatic   \n",
       "19561       fair  8 cylinders     gas  177000.0        clean    automatic   \n",
       "\n",
       "      drive         size   type paint_color  \n",
       "0       4wd    full-size  truck        grey  \n",
       "1       4wd    full-size    SUV        grey  \n",
       "2       4wd    full-size    SUV       white  \n",
       "3       4wd    full-size    SUV       white  \n",
       "4       4wd    full-size  truck      custom  \n",
       "...     ...          ...    ...         ...  \n",
       "19557   fwd  sub-compact  sedan       white  \n",
       "19558   4wd    full-size    SUV         red  \n",
       "19559   4wd    full-size    SUV      custom  \n",
       "19560   fwd     mid-size  sedan        grey  \n",
       "19561   4wd    full-size  truck        blue  \n",
       "\n",
       "[19562 rows x 16 columns]>"
      ]
     },
     "execution_count": 11,
     "metadata": {},
     "output_type": "execute_result"
    }
   ],
   "source": [
    "df = pd.read_csv('cars_11_18.csv')\n",
    "df.head"
   ]
  },
  {
   "cell_type": "code",
   "execution_count": 12,
   "metadata": {},
   "outputs": [
    {
     "data": {
      "text/plain": [
       "<bound method NDFrame.head of        price    year manufacturer     model  condition    cylinders    fuel  \\\n",
       "0      13995  2012.0         ford     f-150       good  6 cylinders     gas   \n",
       "1       7995  2010.0    chevrolet   equinox       good  4 cylinders     gas   \n",
       "2       8995  2011.0    chevrolet  traverse       good  6 cylinders     gas   \n",
       "3      10995  2014.0         ford  explorer       good  6 cylinders     gas   \n",
       "4      12995  2004.0          ram      2500       good  6 cylinders  diesel   \n",
       "...      ...     ...          ...       ...        ...          ...     ...   \n",
       "19557   5000  2009.0       toyota   corolla       good  4 cylinders     gas   \n",
       "19558  25871  2017.0         ford  explorer  excellent  6 cylinders     gas   \n",
       "19559  12995  2014.0       subaru   outback  excellent  4 cylinders     gas   \n",
       "19560   9584  2012.0       toyota     camry  excellent  4 cylinders     gas   \n",
       "19561   1000  2004.0         ford     f-150       fair  8 cylinders     gas   \n",
       "\n",
       "       odometer title_status transmission drive         size   type  \\\n",
       "0      188406.0        clean    automatic   4wd    full-size  truck   \n",
       "1      108124.0        clean    automatic   4wd    full-size    SUV   \n",
       "2      178054.0        clean    automatic   4wd    full-size    SUV   \n",
       "3      170259.0        clean    automatic   4wd    full-size    SUV   \n",
       "4      309621.0        clean    automatic   4wd    full-size  truck   \n",
       "...         ...          ...          ...   ...          ...    ...   \n",
       "19557  159500.0        clean       manual   fwd  sub-compact  sedan   \n",
       "19558   42520.0      rebuilt    automatic   4wd    full-size    SUV   \n",
       "19559  134315.0        clean    automatic   4wd    full-size    SUV   \n",
       "19560  145000.0        clean    automatic   fwd     mid-size  sedan   \n",
       "19561  177000.0        clean    automatic   4wd    full-size  truck   \n",
       "\n",
       "      paint_color  \n",
       "0            grey  \n",
       "1            grey  \n",
       "2           white  \n",
       "3           white  \n",
       "4          custom  \n",
       "...           ...  \n",
       "19557       white  \n",
       "19558         red  \n",
       "19559      custom  \n",
       "19560        grey  \n",
       "19561        blue  \n",
       "\n",
       "[18208 rows x 14 columns]>"
      ]
     },
     "execution_count": 12,
     "metadata": {},
     "output_type": "execute_result"
    }
   ],
   "source": [
    "# elminate duplicate rows and set the price limits to >50 and < 79980\n",
    "\n",
    "df.drop(df.columns[df.columns.str.contains('unnamed',case = False)],axis = 1, inplace = True)\n",
    "\n",
    "df.drop_duplicates()\n",
    "\n",
    "df = df[df.price <79980]\n",
    "df = df[df.price > 50]\n",
    "\n",
    "df.head\n",
    "#df.shape"
   ]
  },
  {
   "cell_type": "markdown",
   "metadata": {},
   "source": [
    "# Insight of predictors and Data Visualization\n",
    "\n",
    "Histogram of response/major predictors"
   ]
  },
  {
   "cell_type": "code",
   "execution_count": null,
   "metadata": {},
   "outputs": [],
   "source": []
  },
  {
   "cell_type": "code",
   "execution_count": null,
   "metadata": {},
   "outputs": [],
   "source": []
  },
  {
   "cell_type": "markdown",
   "metadata": {},
   "source": [
    "# Methods\n",
    "Multiple Linear Regression with Lasso panelty/ Random forest / XGboost"
   ]
  },
  {
   "cell_type": "code",
   "execution_count": 13,
   "metadata": {},
   "outputs": [],
   "source": [
    "# Multiple linear regression code"
   ]
  },
  {
   "cell_type": "code",
   "execution_count": 14,
   "metadata": {},
   "outputs": [
    {
     "name": "stdout",
     "output_type": "stream",
     "text": [
      "['year', 'manufacturer', 'model', 'condition', 'cylinders', 'fuel', 'title_status', 'transmission', 'drive', 'size', 'type', 'paint_color']\n",
      "['price', 'odometer']\n",
      "      year         price\n",
      "                    mean\n",
      "0   2000.0   4664.023256\n",
      "1   2001.0   4640.145110\n",
      "2   2002.0   5207.703704\n",
      "3   2003.0   5437.128492\n",
      "4   2004.0   6210.379209\n",
      "5   2005.0   6186.873385\n",
      "6   2006.0   8005.791277\n",
      "7   2007.0   7387.309592\n",
      "8   2008.0   9225.525570\n",
      "9   2009.0   8039.509009\n",
      "10  2010.0   9324.161002\n",
      "11  2011.0  11070.032216\n",
      "12  2012.0  11724.986815\n",
      "13  2013.0  13783.539955\n",
      "14  2014.0  14622.337849\n",
      "15  2015.0  18584.741310\n",
      "16  2016.0  19094.360689\n",
      "17  2017.0  22959.329630\n",
      "18  2018.0  24881.927132\n",
      "19  2019.0  28086.332579\n",
      "20  2020.0  34203.173913\n",
      "   manufacturer         price\n",
      "                         mean\n",
      "0           bmw  11883.194175\n",
      "1         buick  14457.606299\n",
      "2      cadillac  18377.315789\n",
      "3     chevrolet  14613.156896\n",
      "4      chrysler   6848.048980\n",
      "5         dodge  10971.994643\n",
      "6          ford  14658.921964\n",
      "7           gmc  18754.357743\n",
      "8         honda   8174.464815\n",
      "9       hyundai   7636.996435\n",
      "10         jeep  12154.200000\n",
      "11          kia   8849.380368\n",
      "12        mazda   6370.402878\n",
      "13       nissan   8090.019436\n",
      "14          ram  19884.408827\n",
      "15       subaru   9310.811620\n",
      "16       toyota  10569.017143\n",
      "17   volkswagen   8183.299270\n",
      "       model         price\n",
      "                      mean\n",
      "0       1500  17027.444676\n",
      "1        200   7397.730000\n",
      "2       2500  22302.341912\n",
      "3          3   6370.402878\n",
      "4   3-series  11527.264706\n",
      "..       ...           ...\n",
      "81    tundra  17213.912281\n",
      "82     versa   5744.472868\n",
      "83  wrangler  20258.540670\n",
      "84        x5  12232.278846\n",
      "85     yukon  16404.952381\n",
      "\n",
      "[86 rows x 2 columns]\n",
      "   condition         price\n",
      "                      mean\n",
      "0  excellent  13867.409620\n",
      "1       fair   3190.331532\n",
      "2       good  10648.591226\n",
      "3   like new  16807.125201\n",
      "4        new  14834.288660\n",
      "      cylinders         price\n",
      "                         mean\n",
      "0  10 cylinders  18526.931507\n",
      "1   3 cylinders  12274.818182\n",
      "2   4 cylinders   8793.055844\n",
      "3   5 cylinders   7560.957317\n",
      "4   6 cylinders  12275.499278\n",
      "5   8 cylinders  18728.080110\n",
      "6         other  14962.578947\n",
      "       fuel         price\n",
      "                     mean\n",
      "0    diesel  23631.121595\n",
      "1  electric  11600.000000\n",
      "2       gas  12059.380688\n",
      "3    hybrid   8038.792969\n",
      "  title_status         price\n",
      "                        mean\n",
      "0        clean  12707.579726\n",
      "1      rebuilt  11218.155803\n",
      "  transmission         price\n",
      "                        mean\n",
      "0    automatic  12782.255347\n",
      "1       manual  10258.583516\n",
      "  drive         price\n",
      "                 mean\n",
      "0   4wd  16924.273065\n",
      "1   fwd   7965.620972\n",
      "2   rwd  14231.677918\n",
      "          size         price\n",
      "                        mean\n",
      "0      compact   7655.926222\n",
      "1    full-size  14967.397015\n",
      "2     mid-size  10018.930358\n",
      "3  sub-compact  11477.565217\n",
      "          type         price\n",
      "                        mean\n",
      "0          SUV  12125.940283\n",
      "1  convertible  17605.724490\n",
      "2        coupe  11202.734729\n",
      "3    hatchback   7194.451193\n",
      "4     mini-van   8899.606112\n",
      "5       pickup  17906.173123\n",
      "6        sedan   7481.377256\n",
      "7        truck  20406.997116\n",
      "8          van  10949.030612\n",
      "9        wagon   8922.171429\n",
      "   paint_color         price\n",
      "                        mean\n",
      "0        black  14215.027591\n",
      "1         blue  10844.995951\n",
      "2        brown  10234.735812\n",
      "3       custom  12669.690722\n",
      "4        green   8385.567829\n",
      "5         grey  11966.394725\n",
      "6       orange  18219.786885\n",
      "7       purple   8252.478261\n",
      "8          red  11954.264625\n",
      "9       silver  10542.716150\n",
      "10       white  15079.727111\n",
      "11      yellow  11355.088889\n"
     ]
    }
   ],
   "source": [
    "data=df\n",
    "\n",
    "n = ['price', 'odometer']\n",
    "c = [i for i in data.columns.values if i not in n]\n",
    "print(c)\n",
    "print(n)\n",
    "data[c] = data[c].astype('str')\n",
    "data[n] = data[n].astype('float')\n",
    "\n",
    "f = [i for i in data.columns.values if i not in n]\n",
    "\n",
    "for col in f:\n",
    "    print(data.groupby(col, as_index=False).agg({'price': [\"mean\"]}))"
   ]
  },
  {
   "cell_type": "code",
   "execution_count": 15,
   "metadata": {},
   "outputs": [
    {
     "name": "stdout",
     "output_type": "stream",
     "text": [
      "(18208, 14)\n",
      "(18208, 176)\n"
     ]
    }
   ],
   "source": [
    "print(data.shape)\n",
    "data = pd.get_dummies(data)\n",
    "print(data.shape)"
   ]
  },
  {
   "cell_type": "code",
   "execution_count": 16,
   "metadata": {},
   "outputs": [],
   "source": [
    "# XGboost code\n",
    "Xtrain, Xtest, ytrain, ytest = train_test_split(data.iloc[:, 1:], data['price'], test_size=0.25, random_state=0)\n",
    "\n",
    "from xgboost import XGBRegressor\n",
    "XGB = XGBRegressor(max_depth=5,\n",
    "                   learning_rate=0.2,\n",
    "                   n_estimators=400,\n",
    "                   verbosity=0,\n",
    "                   objective='reg:linear',\n",
    "                   booster='gbtree',\n",
    "                   n_jobs=-1,\n",
    "                   gamma=0.001,\n",
    "                   subsample=0.5,\n",
    "                   colsample_bytree=1,\n",
    "                   colsample_bylevel=1,\n",
    "                   colsample_bynode=1,\n",
    "                   reg_alpha=1,                  # Regularizer for first fit. alpha = 1, lambda = 0 is LASSO.\n",
    "                   reg_lambda=0,                 # Regularizer for first fit.\n",
    "                   scale_pos_weight=1,\n",
    "                   base_score=0.5,               # Global bias. Set to average of the target rate.\n",
    "                   random_state=0,\n",
    "                   missing=None\n",
    "                  )"
   ]
  },
  {
   "cell_type": "code",
   "execution_count": 17,
   "metadata": {},
   "outputs": [
    {
     "data": {
      "text/plain": [
       "GridSearchCV(cv=5,\n",
       "             estimator=XGBRegressor(base_score=0.5, booster='gbtree',\n",
       "                                    colsample_bylevel=1, colsample_bynode=1,\n",
       "                                    colsample_bytree=1, gamma=0.001,\n",
       "                                    gpu_id=None, importance_type='gain',\n",
       "                                    interaction_constraints=None,\n",
       "                                    learning_rate=0.2, max_delta_step=None,\n",
       "                                    max_depth=5, min_child_weight=None,\n",
       "                                    missing=None, monotone_constraints=None,\n",
       "                                    n_estimators=400, n_jobs=-1,\n",
       "                                    num_parallel_tree=None,\n",
       "                                    objective='reg:linear', random_state=0,\n",
       "                                    reg_alpha=1, reg_lambda=0,\n",
       "                                    scale_pos_weight=1, subsample=0.5,\n",
       "                                    tree_method=None, validate_parameters=None,\n",
       "                                    verbosity=0),\n",
       "             n_jobs=-1,\n",
       "             param_grid={'learning_rate': [0.03, 0.05, 0.1],\n",
       "                         'max_depth': [3, 5, 7],\n",
       "                         'n_estimators': [300, 500, 700]},\n",
       "             refit=False, scoring='neg_mean_squared_error')"
      ]
     },
     "execution_count": 17,
     "metadata": {},
     "output_type": "execute_result"
    }
   ],
   "source": [
    "param_grid = dict({'n_estimators': [300, 500, 700],\n",
    "                   'max_depth': [3, 5, 7],\n",
    "                 'learning_rate' : [0.03, 0.05, 0.1]\n",
    "                  })\n",
    "\n",
    "from sklearn.model_selection import GridSearchCV\n",
    "GridXGB = GridSearchCV(XGB,\n",
    "                       param_grid,\n",
    "                       cv = 5,  \n",
    "                       scoring = 'neg_mean_squared_error',\n",
    "                       n_jobs = -1,\n",
    "                       refit = False,\n",
    "                       verbose = 0\n",
    "                      )\n",
    "\n",
    "GridXGB.fit(Xtrain, ytrain)"
   ]
  },
  {
   "cell_type": "code",
   "execution_count": 18,
   "metadata": {},
   "outputs": [
    {
     "data": {
      "text/plain": [
       "{'learning_rate': 0.05, 'max_depth': 7, 'n_estimators': 700}"
      ]
     },
     "execution_count": 18,
     "metadata": {},
     "output_type": "execute_result"
    }
   ],
   "source": [
    "GridXGB.best_params_"
   ]
  },
  {
   "cell_type": "code",
   "execution_count": 19,
   "metadata": {},
   "outputs": [
    {
     "data": {
      "text/plain": [
       "XGBRegressor(base_score=0.5, booster='gbtree', colsample_bylevel=1,\n",
       "             colsample_bynode=1, colsample_bytree=1, gamma=0.001, gpu_id=-1,\n",
       "             importance_type='gain', interaction_constraints='',\n",
       "             learning_rate=0.05, max_delta_step=0, max_depth=7,\n",
       "             min_child_weight=1, missing=None, monotone_constraints='()',\n",
       "             n_estimators=700, n_jobs=-1, num_parallel_tree=1,\n",
       "             objective='reg:linear', random_state=0, reg_alpha=1, reg_lambda=0,\n",
       "             scale_pos_weight=1, subsample=0.5, tree_method='exact',\n",
       "             validate_parameters=1, verbosity=0)"
      ]
     },
     "execution_count": 19,
     "metadata": {},
     "output_type": "execute_result"
    }
   ],
   "source": [
    "from xgboost import XGBRegressor\n",
    "XGB = XGBRegressor(max_depth=GridXGB.best_params_.get('max_depth'),\n",
    "                   learning_rate=GridXGB.best_params_.get('learning_rate'),\n",
    "                   n_estimators=GridXGB.best_params_.get('n_estimators'),\n",
    "                   verbosity=0,\n",
    "                   objective='reg:linear',\n",
    "                   booster='gbtree',\n",
    "                   n_jobs=-1,\n",
    "                   gamma=0.001,\n",
    "                   subsample=0.5,\n",
    "                   colsample_bytree=1,\n",
    "                   colsample_bylevel=1,\n",
    "                   colsample_bynode=1,\n",
    "                   reg_alpha=1,                  # Regularizer for first fit. alpha = 1, lambda = 0 is LASSO.\n",
    "                   reg_lambda=0,                 # Regularizer for first fit.\n",
    "                   scale_pos_weight=1,\n",
    "                   base_score=0.5,               # Global bias. Set to average of the target rate.\n",
    "                   random_state=0,\n",
    "                   missing=None\n",
    "                  )\n",
    "\n",
    "XGB.fit(Xtrain, ytrain)"
   ]
  },
  {
   "cell_type": "code",
   "execution_count": 20,
   "metadata": {},
   "outputs": [
    {
     "name": "stdout",
     "output_type": "stream",
     "text": [
      "1700.9614165093233\n",
      "0.9200121976319007\n"
     ]
    }
   ],
   "source": [
    "predict_xgb = XGB.predict(Xtest)\n",
    "\n",
    "print(mean_absolute_error(ytest.values, predict_xgb))\n",
    "print(r2_score(ytest.values, predict_xgb))"
   ]
  },
  {
   "cell_type": "code",
   "execution_count": 21,
   "metadata": {},
   "outputs": [
    {
     "data": {
      "image/png": "[encoded data removed]",
      "text/plain": [
       "<Figure size 720x360 with 1 Axes>"
      ]
     },
     "metadata": {
      "needs_background": "light"
     },
     "output_type": "display_data"
    }
   ],
   "source": [
    "y_pred = XGB.predict(Xtest)\n",
    "df_check = pd.DataFrame({'Actual': ytest, 'Predicted': y_pred})\n",
    "df_check = df_check.head(25)\n",
    "#round(df_check,2)\n",
    "df_check.plot(kind='bar',figsize=(10,5))\n",
    "plt.grid(which='major', linestyle='-', linewidth='0.5', color='green')\n",
    "plt.title('Performance of XGBoost')\n",
    "plt.ylabel('Mean Absolute Error')\n",
    "plt.savefig('XGBoost-Performance.jpg')\n",
    "plt.show()"
   ]
  },
  {
   "cell_type": "code",
   "execution_count": 22,
   "metadata": {},
   "outputs": [
    {
     "data": {
      "image/png": "[encoded data removed]",
      "text/plain": [
       "<Figure size 432x432 with 1 Axes>"
      ]
     },
     "metadata": {},
     "output_type": "display_data"
    }
   ],
   "source": [
    "importances = XGB.feature_importances_\n",
    "features=Xtrain.columns\n",
    "importances = importances[importances!=0]\n",
    "importances = importances[importances > 0.03]\n",
    "# Set the style\n",
    "plt.style.use('fivethirtyeight')\n",
    "# list of x locations for plotting\n",
    "x_values = list(range(len(importances)))\n",
    "# Make a bar chart\n",
    "plt.figure(figsize=(6,6))\n",
    "plt.bar(x_values, importances, orientation = ('vertical'),color = 'purple')\n",
    "# Tick labels for x axis\n",
    "plt.xticks(x_values, features[0:len(x_values)], rotation=(90))\n",
    "# Axis labels and title\n",
    "plt.ylabel('Importance')\n",
    "plt.xlabel('Variable/Features')\n",
    "plt.title('XGBoost Variables Importance')\n",
    "plt.tight_layout()\n",
    "plt.show()"
   ]
  },
  {
   "cell_type": "code",
   "execution_count": 23,
   "metadata": {},
   "outputs": [],
   "source": [
    "# R squared score + MSE evaluation "
   ]
  },
  {
   "cell_type": "code",
   "execution_count": null,
   "metadata": {},
   "outputs": [],
   "source": []
  }
 ],
 "metadata": {
  "kernelspec": {
   "display_name": "Python 3",
   "language": "python",
   "name": "python3"
  },
  "language_info": {
   "codemirror_mode": {
    "name": "ipython",
    "version": 3
   },
   "file_extension": ".py",
   "mimetype": "text/x-python",
   "name": "python",
   "nbconvert_exporter": "python",
   "pygments_lexer": "ipython3",
   "version": "3.8.5"
  }
 },
 "nbformat": 4,
 "nbformat_minor": 4
}
