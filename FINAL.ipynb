{
 "cells": [
  {
   "cell_type": "code",
   "execution_count": 1,
   "metadata": {},
   "outputs": [],
   "source": [
    "import matplotlib\n",
    "import matplotlib.pyplot as plt \n",
    "%matplotlib inline\n",
    "import scipy.stats as ss\n",
    "from scipy.optimize import minimize\n",
    "import pandas as pd \n",
    "import numpy as np\n",
    "import seaborn as sns\n",
    "\n",
    "import sklearn as sk \n",
    "from sklearn.model_selection import train_test_split, cross_val_score\n",
    "from sklearn.pipeline import Pipeline\n",
    "from sklearn.linear_model import LinearRegression, LogisticRegression\n",
    "from sklearn.preprocessing import PolynomialFeatures, StandardScaler\n",
    "from sklearn.metrics import make_scorer, mean_absolute_error"
   ]
  },
  {
   "cell_type": "code",
   "execution_count": 3,
   "metadata": {},
   "outputs": [
    {
     "data": {
      "text/plain": [
       "<bound method NDFrame.head of        Unnamed: 0  Unnamed: 0.1  price    year manufacturer     model  \\\n",
       "0               1             5  13995  2012.0         ford     f-150   \n",
       "1               2             6   7995  2010.0    chevrolet   equinox   \n",
       "2               3             7   8995  2011.0    chevrolet  traverse   \n",
       "3               4             8  10995  2014.0         ford  explorer   \n",
       "4               5             9  12995  2004.0          ram      2500   \n",
       "...           ...           ...    ...     ...          ...       ...   \n",
       "19557       61918        423777   5000  2009.0       toyota   corolla   \n",
       "19558       61923        423803  25871  2017.0         ford  explorer   \n",
       "19559       61928        423821  12995  2014.0       subaru   outback   \n",
       "19560       61929        423823   9584  2012.0       toyota     camry   \n",
       "19561       61930        423824   1000  2004.0         ford     f-150   \n",
       "\n",
       "       condition    cylinders    fuel  odometer title_status transmission  \\\n",
       "0           good  6 cylinders     gas  188406.0        clean    automatic   \n",
       "1           good  4 cylinders     gas  108124.0        clean    automatic   \n",
       "2           good  6 cylinders     gas  178054.0        clean    automatic   \n",
       "3           good  6 cylinders     gas  170259.0        clean    automatic   \n",
       "4           good  6 cylinders  diesel  309621.0        clean    automatic   \n",
       "...          ...          ...     ...       ...          ...          ...   \n",
       "19557       good  4 cylinders     gas  159500.0        clean       manual   \n",
       "19558  excellent  6 cylinders     gas   42520.0      rebuilt    automatic   \n",
       "19559  excellent  4 cylinders     gas  134315.0        clean    automatic   \n",
       "19560  excellent  4 cylinders     gas  145000.0        clean    automatic   \n",
       "19561       fair  8 cylinders     gas  177000.0        clean    automatic   \n",
       "\n",
       "      drive         size   type paint_color  \n",
       "0       4wd    full-size  truck        grey  \n",
       "1       4wd    full-size    SUV        grey  \n",
       "2       4wd    full-size    SUV       white  \n",
       "3       4wd    full-size    SUV       white  \n",
       "4       4wd    full-size  truck      custom  \n",
       "...     ...          ...    ...         ...  \n",
       "19557   fwd  sub-compact  sedan       white  \n",
       "19558   4wd    full-size    SUV         red  \n",
       "19559   4wd    full-size    SUV      custom  \n",
       "19560   fwd     mid-size  sedan        grey  \n",
       "19561   4wd    full-size  truck        blue  \n",
       "\n",
       "[19562 rows x 16 columns]>"
      ]
     },
     "execution_count": 3,
     "metadata": {},
     "output_type": "execute_result"
    }
   ],
   "source": [
    "df = pd.read_csv('cars_11_18.csv')\n",
    "df.head"
   ]
  },
  {
   "cell_type": "code",
   "execution_count": null,
   "metadata": {},
   "outputs": [],
   "source": []
  }
 ],
 "metadata": {
  "kernelspec": {
   "display_name": "Python 3",
   "language": "python",
   "name": "python3"
  },
  "language_info": {
   "codemirror_mode": {
    "name": "ipython",
    "version": 3
   },
   "file_extension": ".py",
   "mimetype": "text/x-python",
   "name": "python",
   "nbconvert_exporter": "python",
   "pygments_lexer": "ipython3",
   "version": "3.8.3"
  }
 },
 "nbformat": 4,
 "nbformat_minor": 4
}
