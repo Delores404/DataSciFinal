{
 "cells": [
  {
   "cell_type": "markdown",
   "metadata": {},
   "source": [
    "# Used cars prices analysis and prediction\n",
    "\n",
    "In this project, we are going to use three machine learning algorithm to do the prediction:\n",
    "Multiple Linear Regression with LASSO panelty;\n",
    "Random Forest;\n",
    "XGboost"
   ]
  },
  {
   "cell_type": "code",
   "execution_count": 9,
   "metadata": {},
   "outputs": [],
   "source": [
    "# import any tool if needed\n",
    "import matplotlib\n",
    "import matplotlib.pyplot as plt \n",
    "%matplotlib inline\n",
    "import scipy.stats as ss\n",
    "from scipy.optimize import minimize\n",
    "import pandas as pd \n",
    "import numpy as np\n",
    "import seaborn as sns\n",
    "\n",
    "import sklearn as sk \n",
    "from sklearn.model_selection import train_test_split, cross_val_score\n",
    "from sklearn.pipeline import Pipeline\n",
    "from sklearn.linear_model import LinearRegression, LogisticRegression\n",
    "from sklearn.preprocessing import PolynomialFeatures, StandardScaler\n",
    "from sklearn.metrics import make_scorer, mean_absolute_error\n",
    "from sklearn.ensemble import BaggingClassifier, RandomForestClassifier, BaggingRegressor, RandomForestRegressor"
   ]
  },
  {
   "cell_type": "markdown",
   "metadata": {},
   "source": [
    "# Dataset Manipulation"
   ]
  },
  {
   "cell_type": "code",
   "execution_count": 3,
   "metadata": {},
   "outputs": [
    {
     "data": {
      "text/plain": [
       "<bound method NDFrame.head of        Unnamed: 0  Unnamed: 0.1  price    year manufacturer     model  \\\n",
       "0               1             5  13995  2012.0         ford     f-150   \n",
       "1               2             6   7995  2010.0    chevrolet   equinox   \n",
       "2               3             7   8995  2011.0    chevrolet  traverse   \n",
       "3               4             8  10995  2014.0         ford  explorer   \n",
       "4               5             9  12995  2004.0          ram      2500   \n",
       "...           ...           ...    ...     ...          ...       ...   \n",
       "19557       61918        423777   5000  2009.0       toyota   corolla   \n",
       "19558       61923        423803  25871  2017.0         ford  explorer   \n",
       "19559       61928        423821  12995  2014.0       subaru   outback   \n",
       "19560       61929        423823   9584  2012.0       toyota     camry   \n",
       "19561       61930        423824   1000  2004.0         ford     f-150   \n",
       "\n",
       "       condition    cylinders    fuel  odometer title_status transmission  \\\n",
       "0           good  6 cylinders     gas  188406.0        clean    automatic   \n",
       "1           good  4 cylinders     gas  108124.0        clean    automatic   \n",
       "2           good  6 cylinders     gas  178054.0        clean    automatic   \n",
       "3           good  6 cylinders     gas  170259.0        clean    automatic   \n",
       "4           good  6 cylinders  diesel  309621.0        clean    automatic   \n",
       "...          ...          ...     ...       ...          ...          ...   \n",
       "19557       good  4 cylinders     gas  159500.0        clean       manual   \n",
       "19558  excellent  6 cylinders     gas   42520.0      rebuilt    automatic   \n",
       "19559  excellent  4 cylinders     gas  134315.0        clean    automatic   \n",
       "19560  excellent  4 cylinders     gas  145000.0        clean    automatic   \n",
       "19561       fair  8 cylinders     gas  177000.0        clean    automatic   \n",
       "\n",
       "      drive         size   type paint_color  \n",
       "0       4wd    full-size  truck        grey  \n",
       "1       4wd    full-size    SUV        grey  \n",
       "2       4wd    full-size    SUV       white  \n",
       "3       4wd    full-size    SUV       white  \n",
       "4       4wd    full-size  truck      custom  \n",
       "...     ...          ...    ...         ...  \n",
       "19557   fwd  sub-compact  sedan       white  \n",
       "19558   4wd    full-size    SUV         red  \n",
       "19559   4wd    full-size    SUV      custom  \n",
       "19560   fwd     mid-size  sedan        grey  \n",
       "19561   4wd    full-size  truck        blue  \n",
       "\n",
       "[19562 rows x 16 columns]>"
      ]
     },
     "execution_count": 3,
     "metadata": {},
     "output_type": "execute_result"
    }
   ],
   "source": [
    "df = pd.read_csv('cars_11_18.csv')\n",
    "df.head"
   ]
  },
  {
   "cell_type": "code",
   "execution_count": 4,
   "metadata": {},
   "outputs": [
    {
     "data": {
      "text/plain": [
       "<bound method NDFrame.head of        price    year manufacturer     model  condition    cylinders    fuel  \\\n",
       "0      13995  2012.0         ford     f-150       good  6 cylinders     gas   \n",
       "1       7995  2010.0    chevrolet   equinox       good  4 cylinders     gas   \n",
       "2       8995  2011.0    chevrolet  traverse       good  6 cylinders     gas   \n",
       "3      10995  2014.0         ford  explorer       good  6 cylinders     gas   \n",
       "4      12995  2004.0          ram      2500       good  6 cylinders  diesel   \n",
       "...      ...     ...          ...       ...        ...          ...     ...   \n",
       "19557   5000  2009.0       toyota   corolla       good  4 cylinders     gas   \n",
       "19558  25871  2017.0         ford  explorer  excellent  6 cylinders     gas   \n",
       "19559  12995  2014.0       subaru   outback  excellent  4 cylinders     gas   \n",
       "19560   9584  2012.0       toyota     camry  excellent  4 cylinders     gas   \n",
       "19561   1000  2004.0         ford     f-150       fair  8 cylinders     gas   \n",
       "\n",
       "       odometer title_status transmission drive         size   type  \\\n",
       "0      188406.0        clean    automatic   4wd    full-size  truck   \n",
       "1      108124.0        clean    automatic   4wd    full-size    SUV   \n",
       "2      178054.0        clean    automatic   4wd    full-size    SUV   \n",
       "3      170259.0        clean    automatic   4wd    full-size    SUV   \n",
       "4      309621.0        clean    automatic   4wd    full-size  truck   \n",
       "...         ...          ...          ...   ...          ...    ...   \n",
       "19557  159500.0        clean       manual   fwd  sub-compact  sedan   \n",
       "19558   42520.0      rebuilt    automatic   4wd    full-size    SUV   \n",
       "19559  134315.0        clean    automatic   4wd    full-size    SUV   \n",
       "19560  145000.0        clean    automatic   fwd     mid-size  sedan   \n",
       "19561  177000.0        clean    automatic   4wd    full-size  truck   \n",
       "\n",
       "      paint_color  \n",
       "0            grey  \n",
       "1            grey  \n",
       "2           white  \n",
       "3           white  \n",
       "4          custom  \n",
       "...           ...  \n",
       "19557       white  \n",
       "19558         red  \n",
       "19559      custom  \n",
       "19560        grey  \n",
       "19561        blue  \n",
       "\n",
       "[18208 rows x 14 columns]>"
      ]
     },
     "execution_count": 4,
     "metadata": {},
     "output_type": "execute_result"
    }
   ],
   "source": [
    "# elminate duplicate rows and set the price limits to >50 and < 79980\n",
    "\n",
    "df.drop(df.columns[df.columns.str.contains('unnamed',case = False)],axis = 1, inplace = True)\n",
    "\n",
    "df.drop_duplicates()\n",
    "\n",
    "df = df[df.price <79980]\n",
    "df = df[df.price > 50]\n",
    "\n",
    "df.head\n",
    "#df.shape"
   ]
  },
  {
   "cell_type": "markdown",
   "metadata": {},
   "source": [
    "# Insight of predictors and Data Visualization\n",
    "\n",
    "Histogram of response/major predictors"
   ]
  },
  {
   "cell_type": "code",
   "execution_count": null,
   "metadata": {},
   "outputs": [],
   "source": []
  },
  {
   "cell_type": "code",
   "execution_count": null,
   "metadata": {},
   "outputs": [],
   "source": []
  },
  {
   "cell_type": "markdown",
   "metadata": {},
   "source": [
    "# Methods\n",
    "Multiple Linear Regression with Lasso panelty/ Random forest / XGboost"
   ]
  },
  {
   "cell_type": "code",
   "execution_count": 5,
   "metadata": {},
   "outputs": [],
   "source": [
    "# Multiple linear regression code\n",
    "\n"
   ]
  },
  {
   "cell_type": "code",
   "execution_count": 40,
   "metadata": {},
   "outputs": [
    {
     "name": "stdout",
     "output_type": "stream",
     "text": [
      "1651.1462911720716\n",
      "0.9140702921959201\n",
      "0.9140702921959201\n",
      "1648.3694294551567\n",
      "0.9136829581350028\n"
     ]
    }
   ],
   "source": [
    "# Random forest code\n",
    "\n",
    "from sklearn.ensemble import RandomForestRegressor\n",
    "from sklearn.metrics import mean_absolute_error, r2_score\n",
    "from sklearn.model_selection import RandomizedSearchCV\n",
    "\n",
    "df = pd.get_dummies(data = df)\n",
    "\n",
    "Xtrain, Xtest, ytrain, ytest = train_test_split(df.iloc[:, 1:], df['price'], test_size=0.25, random_state=0)\n",
    "\n",
    "rf_1 =  RandomForestRegressor(n_estimators=100,\n",
    "                           criterion='mse',\n",
    "                           max_depth=None,\n",
    "                           min_samples_split=2,\n",
    "                           min_samples_leaf=0.0001,\n",
    "                           max_features='auto',\n",
    "                           max_leaf_nodes=None,\n",
    "                           min_impurity_decrease=0.0001,\n",
    "                           bootstrap=True,\n",
    "                           oob_score=True,\n",
    "                           n_jobs=-1,\n",
    "                           random_state=0,\n",
    "                           verbose=0,\n",
    "                           warm_start=True\n",
    "                          )\n",
    "\n",
    "rf_1.fit(Xtrain, ytrain)\n",
    "predict_rf_1 = rf_1.predict(Xtest)\n",
    "rf_mf1_accuracy = rf_1.score(Xtest, ytest)\n",
    "print(mean_absolute_error(ytest.values, predict_rf_1))\n",
    "print(r2_score(ytest.values, predict_rf_1))\n",
    "\n",
    "\n",
    "rf_2 =  RandomForestRegressor(n_estimators=200,\n",
    "                           criterion='mse',\n",
    "                           max_depth=None,\n",
    "                           min_samples_split=2,\n",
    "                           min_samples_leaf=0.0001,\n",
    "                           max_features='auto',\n",
    "                           max_leaf_nodes=None,\n",
    "                           min_impurity_decrease=0.0001,\n",
    "                           bootstrap=True,\n",
    "                           oob_score=True,\n",
    "                           n_jobs=-1,\n",
    "                           random_state=0,\n",
    "                           verbose=0,\n",
    "                           warm_start=True\n",
    "                          )\n",
    "\n",
    "rf_2.fit(Xtrain, ytrain)\n",
    "predict_rf_2 = rf_max3.predict(Xtest)\n",
    "\n",
    "print(mean_absolute_error(ytest.values, predict_rf_2))\n",
    "print(r2_score(ytest.values, predict_rf_2))\n"
   ]
  },
  {
   "cell_type": "code",
   "execution_count": 37,
   "metadata": {},
   "outputs": [
    {
     "name": "stdout",
     "output_type": "stream",
     "text": [
      "Fitting 3 folds for each of 20 candidates, totalling 60 fits\n"
     ]
    },
    {
     "name": "stderr",
     "output_type": "stream",
     "text": [
      "[Parallel(n_jobs=-1)]: Using backend LokyBackend with 8 concurrent workers.\n",
      "[Parallel(n_jobs=-1)]: Done  25 tasks      | elapsed: 10.0min\n",
      "[Parallel(n_jobs=-1)]: Done  60 out of  60 | elapsed: 18.1min finished\n"
     ]
    },
    {
     "data": {
      "text/plain": [
       "{'n_estimators': 1577, 'max_features': 'sqrt', 'bootstrap': False}"
      ]
     },
     "execution_count": 37,
     "metadata": {},
     "output_type": "execute_result"
    }
   ],
   "source": [
    "### RandomizedSearchCV\n",
    "# Number of trees in random forest\n",
    "n_estimators = [int(x) for x in np.linspace(start = 100, stop = 2000, num = 10)]\n",
    "# Number of features to consider at every split\n",
    "max_features = ['auto', 'sqrt']\n",
    "# Method of selecting samples for training each tree\n",
    "bootstrap = [True, False]\n",
    "# Create the random grid\n",
    "random_grid = {'n_estimators': n_estimators,\n",
    "               'max_features': max_features,\n",
    "               'bootstrap': bootstrap}\n",
    "# use random search to find out best hyper parameters\n",
    "# First create the base model to tune\n",
    "rf = RandomForestRegressor()\n",
    "# Random search of parameters, using 3 fold cross validation, \n",
    "# search across 100 different combinations, and use all available cores\n",
    "rf_random = RandomizedSearchCV(estimator = rf, \n",
    "                               param_distributions = random_grid, \n",
    "                               n_iter = 20, \n",
    "                               cv = 3, \n",
    "                               verbose=2, \n",
    "                               random_state=42, \n",
    "                               n_jobs = -1)\n",
    "\n",
    "rf_random.fit(Xtrain, ytrain)\n",
    "rf_random.best_params_"
   ]
  },
  {
   "cell_type": "code",
   "execution_count": 44,
   "metadata": {},
   "outputs": [
    {
     "name": "stdout",
     "output_type": "stream",
     "text": [
      "Base model performance\n",
      "Mean absolute error is 1651.1462911720716\n",
      "Accuracy is 0.9140702921959201\n",
      "Random model performance\n",
      "Mean absolute error is 1463.0718319078871\n",
      "Accuracy is 0.9166058539654856\n",
      "Improvement of 0.28%.\n"
     ]
    }
   ],
   "source": [
    "# See how we improved our random forest model\n",
    "\n",
    "# set rf_1 as base model\n",
    "print(\"Base model performance\")\n",
    "print(\"Mean absolute error is\", mean_absolute_error(ytest.values, predict_rf_1))\n",
    "print(\"Accuracy is\", r2_score(ytest.values, predict_rf_1))\n",
    "\n",
    "# impoved model\n",
    "predict_rf_random = rf_random.predict(Xtest)\n",
    "print(\"Random model performance\")\n",
    "print(\"Mean absolute error is\", mean_absolute_error(ytest.values, predict_rf_random))\n",
    "print(\"Accuracy is\", r2_score(ytest.values, predict_rf_random))\n",
    "\n",
    "# improvement\n",
    "print('Improvement of {:0.2f}%.'.format( 100 * (r2_score(ytest.values, predict_rf_random)\n",
    "                                                - r2_score(ytest.values, predict_rf_1)) / \n",
    "                                       r2_score(ytest.values, predict_rf_1)))"
   ]
  },
  {
   "cell_type": "code",
   "execution_count": 52,
   "metadata": {},
   "outputs": [
    {
     "data": {
      "image/png": "[encoded data removed]",
      "text/plain": [
       "<Figure size 720x360 with 1 Axes>"
      ]
     },
     "metadata": {
      "needs_background": "light"
     },
     "output_type": "display_data"
    }
   ],
   "source": [
    "y_pred = rf_random.predict(Xtest)\n",
    "df_check = pd.DataFrame({'Actual': ytest, 'Predicted': y_pred})\n",
    "df_check = df_check.head(25)\n",
    "#round(df_check,2)\n",
    "df_check.plot(kind='bar',figsize=(10,5))\n",
    "plt.grid(which='major', linestyle='-', linewidth='0.5', color='green')\n",
    "plt.title('Performance of Random Forest')\n",
    "plt.ylabel('Mean Absolute Error')\n",
    "plt.savefig('Random-Forest-Performance.jpg')\n",
    "plt.show()\n",
    " \n"
   ]
  },
  {
   "cell_type": "code",
   "execution_count": 96,
   "metadata": {},
   "outputs": [
    {
     "data": {
      "image/png": "[encoded data removed]",
      "text/plain": [
       "<Figure size 432x432 with 1 Axes>"
      ]
     },
     "metadata": {},
     "output_type": "display_data"
    }
   ],
   "source": [
    "\n",
    "importances = rf_1.feature_importances_\n",
    "features=Xtrain.columns\n",
    "importances = importances[importances!=0]\n",
    "importances = importances[importances > 0.03]\n",
    "# Set the style\n",
    "plt.style.use('fivethirtyeight')\n",
    "# list of x locations for plotting\n",
    "x_values = list(range(len(importances)))\n",
    "# Make a bar chart\n",
    "plt.figure(figsize=(6,6))\n",
    "plt.bar(x_values, importances, orientation = ('vertical'),color = 'purple')\n",
    "# Tick labels for x axis\n",
    "plt.xticks(x_values, features, rotation=(90))\n",
    "# Axis labels and title\n",
    "plt.ylabel('Importance'); \n",
    "plt.xlabel('Variable/Features'); \n",
    "plt.title('Random Forest Variables Importance')\n",
    "plt.tight_layout()\n",
    "plt.show();\n",
    "\n"
   ]
  },
  {
   "cell_type": "code",
   "execution_count": null,
   "metadata": {},
   "outputs": [],
   "source": [
    "\n",
    "# XGboost code"
   ]
  },
  {
   "cell_type": "code",
   "execution_count": null,
   "metadata": {},
   "outputs": [],
   "source": []
  },
  {
   "cell_type": "code",
   "execution_count": null,
   "metadata": {},
   "outputs": [],
   "source": []
  },
  {
   "cell_type": "code",
   "execution_count": null,
   "metadata": {},
   "outputs": [],
   "source": [
    "# R squared score + MSE evaluation "
   ]
  },
  {
   "cell_type": "code",
   "execution_count": null,
   "metadata": {},
   "outputs": [],
   "source": []
  }
 ],
 "metadata": {
  "kernelspec": {
   "display_name": "Python 3",
   "language": "python",
   "name": "python3"
  },
  "language_info": {
   "codemirror_mode": {
    "name": "ipython",
    "version": 3
   },
   "file_extension": ".py",
   "mimetype": "text/x-python",
   "name": "python",
   "nbconvert_exporter": "python",
   "pygments_lexer": "ipython3",
   "version": "3.8.3"
  }
 },
 "nbformat": 4,
 "nbformat_minor": 4
}
